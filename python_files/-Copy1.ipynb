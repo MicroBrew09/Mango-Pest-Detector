{
 "cells": [
  {
   "cell_type": "code",
   "execution_count": 1,
   "metadata": {},
   "outputs": [],
   "source": [
    "from fastai.vision import *"
   ]
  },
  {
   "cell_type": "code",
   "execution_count": 38,
   "metadata": {},
   "outputs": [],
   "source": [
    "folder = 'Mango-Seed-Weevil'\n",
    "file = '/home/arjun/Documents/git/Mango-Pest-Detector/urls/urls_Mango_Seed_Weevil.csv'"
   ]
  },
  {
   "cell_type": "code",
   "execution_count": 39,
   "metadata": {},
   "outputs": [],
   "source": [
    "path = Path('/home/arjun/Documents/git/Mango-Pest-Detector/data/')\n",
    "dest = path/folder\n",
    "dest.mkdir(parents=True, exist_ok=True)"
   ]
  },
  {
   "cell_type": "code",
   "execution_count": 40,
   "metadata": {},
   "outputs": [
    {
     "data": {
      "text/plain": [
       "[PosixPath('/home/arjun/Documents/git/Mango-Pest-Detector/data/Anthracnose-on-Fruit'),\n",
       " PosixPath('/home/arjun/Documents/git/Mango-Pest-Detector/data/Mango-Pulp-Weevil'),\n",
       " PosixPath('/home/arjun/Documents/git/Mango-Pest-Detector/data/Mango-Seed-Weevil'),\n",
       " PosixPath('/home/arjun/Documents/git/Mango-Pest-Detector/data/Mango-Malformation'),\n",
       " PosixPath('/home/arjun/Documents/git/Mango-Pest-Detector/data/Mango-Black-Blight'),\n",
       " PosixPath('/home/arjun/Documents/git/Mango-Pest-Detector/data/Red-Rust'),\n",
       " PosixPath('/home/arjun/Documents/git/Mango-Pest-Detector/data/Asian-Mango-Long-Horned-Beetle')]"
      ]
     },
     "execution_count": 40,
     "metadata": {},
     "output_type": "execute_result"
    }
   ],
   "source": [
    "path.ls()"
   ]
  },
  {
   "cell_type": "code",
   "execution_count": 41,
   "metadata": {},
   "outputs": [],
   "source": [
    "classes = ['Anthracnose-on-Fruit','Asian-Mango-Long-Horned-Beetle','Mango-Black-Blight','Mango-Seed-Weevil']"
   ]
  },
  {
   "cell_type": "code",
   "execution_count": 42,
   "metadata": {},
   "outputs": [],
   "source": [
    "download_images(path/file, dest, max_pics=500)"
   ]
  },
  {
   "cell_type": "code",
   "execution_count": 17,
   "metadata": {},
   "outputs": [],
   "source": [
    "for c in classes:\n",
    "    print(c)\n",
    "    verify_images(path/c, delete=True, max_size=500)"
   ]
  },
  {
   "cell_type": "code",
   "execution_count": 43,
   "metadata": {},
   "outputs": [],
   "source": [
    "np.random.seed(42)\n",
    "data = ImageDataBunch.from_folder(path, train=\".\", valid_pct=0.2,\n",
    "        ds_tfms=get_transforms(), size=224, num_workers=4).normalize(imagenet_stats)"
   ]
  },
  {
   "cell_type": "code",
   "execution_count": null,
   "metadata": {},
   "outputs": [],
   "source": []
  }
 ],
 "metadata": {
  "kernelspec": {
   "display_name": "Python 3",
   "language": "python",
   "name": "python3"
  },
  "language_info": {
   "codemirror_mode": {
    "name": "ipython",
    "version": 3
   },
   "file_extension": ".py",
   "mimetype": "text/x-python",
   "name": "python",
   "nbconvert_exporter": "python",
   "pygments_lexer": "ipython3",
   "version": "3.7.6"
  }
 },
 "nbformat": 4,
 "nbformat_minor": 2
}
